{
  "nbformat": 4,
  "nbformat_minor": 0,
  "metadata": {
    "colab": {
      "name": "\bIAM CRAFT.ipynb",
      "provenance": [],
      "collapsed_sections": [],
      "include_colab_link": true
    },
    "kernelspec": {
      "name": "python3",
      "display_name": "Python 3"
    }
  },
  "cells": [
    {
      "cell_type": "markdown",
      "metadata": {
        "id": "view-in-github",
        "colab_type": "text"
      },
      "source": [
        "<a href=\"https://colab.research.google.com/github/khanhtran2000/OCR-Dev/blob/master/%08IAM_CRAFT.ipynb\" target=\"_parent\"><img src=\"https://colab.research.google.com/assets/colab-badge.svg\" alt=\"Open In Colab\"/></a>"
      ]
    },
    {
      "cell_type": "markdown",
      "metadata": {
        "id": "wZgH9Mq0syuA",
        "colab_type": "text"
      },
      "source": [
        "# Install CRAFT since this is a pretrained module. After installation, the notebook will have to be restarted. "
      ]
    },
    {
      "cell_type": "code",
      "metadata": {
        "id": "4IoT6Gaevksz",
        "colab_type": "code",
        "outputId": "871d97db-4a66-4329-96a0-61abdc2ad088",
        "colab": {
          "base_uri": "https://localhost:8080/",
          "height": 1000
        }
      },
      "source": [
        "!pip install craft-text-detection"
      ],
      "execution_count": 0,
      "outputs": [
        {
          "output_type": "stream",
          "text": [
            "Collecting craft-text-detection\n",
            "  Downloading https://files.pythonhosted.org/packages/2b/6f/dcb39222649f50d5125225a531b3eb58306c01537209035ccb0c91b64848/craft_text_detection-0.0.2-py3-none-any.whl\n",
            "Collecting torch==0.4.1\n",
            "\u001b[?25l  Downloading https://files.pythonhosted.org/packages/49/0e/e382bcf1a6ae8225f50b99cc26effa2d4cc6d66975ccf3fa9590efcbedce/torch-0.4.1-cp36-cp36m-manylinux1_x86_64.whl (519.5MB)\n",
            "\u001b[K     |████████████████████████████████| 519.5MB 32kB/s \n",
            "\u001b[?25hCollecting opencv-python==3.4.2.17\n",
            "\u001b[?25l  Downloading https://files.pythonhosted.org/packages/53/e0/21c8964fa8ef50842ebefaa7346a3cf0e37b56c8ecd97ed6bd2dbe577705/opencv_python-3.4.2.17-cp36-cp36m-manylinux1_x86_64.whl (25.0MB)\n",
            "\u001b[K     |████████████████████████████████| 25.0MB 1.4MB/s \n",
            "\u001b[?25hCollecting scikit-image==0.14.2\n",
            "\u001b[?25l  Downloading https://files.pythonhosted.org/packages/24/06/d560630eb9e36d90d69fe57d9ff762d8f501664ce478b8a0ae132b3c3008/scikit_image-0.14.2-cp36-cp36m-manylinux1_x86_64.whl (25.3MB)\n",
            "\u001b[K     |████████████████████████████████| 25.3MB 1.4MB/s \n",
            "\u001b[?25hCollecting torchvision==0.2.1\n",
            "\u001b[?25l  Downloading https://files.pythonhosted.org/packages/ca/0d/f00b2885711e08bd71242ebe7b96561e6f6d01fdb4b9dcf4d37e2e13c5e1/torchvision-0.2.1-py2.py3-none-any.whl (54kB)\n",
            "\u001b[K     |████████████████████████████████| 61kB 6.2MB/s \n",
            "\u001b[?25hCollecting pillow==6.2.0\n",
            "\u001b[?25l  Downloading https://files.pythonhosted.org/packages/19/66/6113477dc3206ccb1e192cffd626f2840ead02375a6cebe2436ad4c19f61/Pillow-6.2.0-cp36-cp36m-manylinux1_x86_64.whl (2.1MB)\n",
            "\u001b[K     |████████████████████████████████| 2.1MB 41.7MB/s \n",
            "\u001b[?25hCollecting scipy==1.1.0\n",
            "\u001b[?25l  Downloading https://files.pythonhosted.org/packages/a8/0b/f163da98d3a01b3e0ef1cab8dd2123c34aee2bafbb1c5bffa354cc8a1730/scipy-1.1.0-cp36-cp36m-manylinux1_x86_64.whl (31.2MB)\n",
            "\u001b[K     |████████████████████████████████| 31.2MB 148kB/s \n",
            "\u001b[?25hCollecting requests==2.22.0\n",
            "\u001b[?25l  Downloading https://files.pythonhosted.org/packages/51/bd/23c926cd341ea6b7dd0b2a00aba99ae0f828be89d72b2190f27c11d4b7fb/requests-2.22.0-py2.py3-none-any.whl (57kB)\n",
            "\u001b[K     |████████████████████████████████| 61kB 6.8MB/s \n",
            "\u001b[?25hRequirement already satisfied: numpy>=1.11.3 in /usr/local/lib/python3.6/dist-packages (from opencv-python==3.4.2.17->craft-text-detection) (1.18.5)\n",
            "Requirement already satisfied: PyWavelets>=0.4.0 in /usr/local/lib/python3.6/dist-packages (from scikit-image==0.14.2->craft-text-detection) (1.1.1)\n",
            "Requirement already satisfied: dask[array]>=1.0.0 in /usr/local/lib/python3.6/dist-packages (from scikit-image==0.14.2->craft-text-detection) (2.12.0)\n",
            "Requirement already satisfied: six>=1.10.0 in /usr/local/lib/python3.6/dist-packages (from scikit-image==0.14.2->craft-text-detection) (1.12.0)\n",
            "Requirement already satisfied: matplotlib>=2.0.0 in /usr/local/lib/python3.6/dist-packages (from scikit-image==0.14.2->craft-text-detection) (3.2.1)\n",
            "Requirement already satisfied: cloudpickle>=0.2.1 in /usr/local/lib/python3.6/dist-packages (from scikit-image==0.14.2->craft-text-detection) (1.3.0)\n",
            "Requirement already satisfied: networkx>=1.8 in /usr/local/lib/python3.6/dist-packages (from scikit-image==0.14.2->craft-text-detection) (2.4)\n",
            "Requirement already satisfied: urllib3!=1.25.0,!=1.25.1,<1.26,>=1.21.1 in /usr/local/lib/python3.6/dist-packages (from requests==2.22.0->craft-text-detection) (1.24.3)\n",
            "Requirement already satisfied: certifi>=2017.4.17 in /usr/local/lib/python3.6/dist-packages (from requests==2.22.0->craft-text-detection) (2020.4.5.1)\n",
            "Requirement already satisfied: chardet<3.1.0,>=3.0.2 in /usr/local/lib/python3.6/dist-packages (from requests==2.22.0->craft-text-detection) (3.0.4)\n",
            "Collecting idna<2.9,>=2.5\n",
            "\u001b[?25l  Downloading https://files.pythonhosted.org/packages/14/2c/cd551d81dbe15200be1cf41cd03869a46fe7226e7450af7a6545bfc474c9/idna-2.8-py2.py3-none-any.whl (58kB)\n",
            "\u001b[K     |████████████████████████████████| 61kB 7.3MB/s \n",
            "\u001b[?25hRequirement already satisfied: toolz>=0.7.3; extra == \"array\" in /usr/local/lib/python3.6/dist-packages (from dask[array]>=1.0.0->scikit-image==0.14.2->craft-text-detection) (0.10.0)\n",
            "Requirement already satisfied: pyparsing!=2.0.4,!=2.1.2,!=2.1.6,>=2.0.1 in /usr/local/lib/python3.6/dist-packages (from matplotlib>=2.0.0->scikit-image==0.14.2->craft-text-detection) (2.4.7)\n",
            "Requirement already satisfied: cycler>=0.10 in /usr/local/lib/python3.6/dist-packages (from matplotlib>=2.0.0->scikit-image==0.14.2->craft-text-detection) (0.10.0)\n",
            "Requirement already satisfied: kiwisolver>=1.0.1 in /usr/local/lib/python3.6/dist-packages (from matplotlib>=2.0.0->scikit-image==0.14.2->craft-text-detection) (1.2.0)\n",
            "Requirement already satisfied: python-dateutil>=2.1 in /usr/local/lib/python3.6/dist-packages (from matplotlib>=2.0.0->scikit-image==0.14.2->craft-text-detection) (2.8.1)\n",
            "Requirement already satisfied: decorator>=4.3.0 in /usr/local/lib/python3.6/dist-packages (from networkx>=1.8->scikit-image==0.14.2->craft-text-detection) (4.4.2)\n",
            "\u001b[31mERROR: umap-learn 0.4.4 has requirement scipy>=1.3.1, but you'll have scipy 1.1.0 which is incompatible.\u001b[0m\n",
            "\u001b[31mERROR: tensorflow 2.2.0 has requirement scipy==1.4.1; python_version >= \"3\", but you'll have scipy 1.1.0 which is incompatible.\u001b[0m\n",
            "\u001b[31mERROR: plotnine 0.6.0 has requirement scipy>=1.2.0, but you'll have scipy 1.1.0 which is incompatible.\u001b[0m\n",
            "\u001b[31mERROR: google-colab 1.0.0 has requirement requests~=2.23.0, but you'll have requests 2.22.0 which is incompatible.\u001b[0m\n",
            "\u001b[31mERROR: fastai 1.0.61 has requirement torch>=1.0.0, but you'll have torch 0.4.1 which is incompatible.\u001b[0m\n",
            "\u001b[31mERROR: datascience 0.10.6 has requirement folium==0.2.1, but you'll have folium 0.8.3 which is incompatible.\u001b[0m\n",
            "\u001b[31mERROR: albumentations 0.1.12 has requirement imgaug<0.2.7,>=0.2.5, but you'll have imgaug 0.2.9 which is incompatible.\u001b[0m\n",
            "Installing collected packages: torch, opencv-python, pillow, scipy, scikit-image, torchvision, idna, requests, craft-text-detection\n",
            "  Found existing installation: torch 1.5.0+cu101\n",
            "    Uninstalling torch-1.5.0+cu101:\n",
            "      Successfully uninstalled torch-1.5.0+cu101\n",
            "  Found existing installation: opencv-python 4.1.2.30\n",
            "    Uninstalling opencv-python-4.1.2.30:\n",
            "      Successfully uninstalled opencv-python-4.1.2.30\n",
            "  Found existing installation: Pillow 7.0.0\n",
            "    Uninstalling Pillow-7.0.0:\n",
            "      Successfully uninstalled Pillow-7.0.0\n",
            "  Found existing installation: scipy 1.4.1\n",
            "    Uninstalling scipy-1.4.1:\n",
            "      Successfully uninstalled scipy-1.4.1\n",
            "  Found existing installation: scikit-image 0.16.2\n",
            "    Uninstalling scikit-image-0.16.2:\n",
            "      Successfully uninstalled scikit-image-0.16.2\n",
            "  Found existing installation: torchvision 0.6.0+cu101\n",
            "    Uninstalling torchvision-0.6.0+cu101:\n",
            "      Successfully uninstalled torchvision-0.6.0+cu101\n",
            "  Found existing installation: idna 2.9\n",
            "    Uninstalling idna-2.9:\n",
            "      Successfully uninstalled idna-2.9\n",
            "  Found existing installation: requests 2.23.0\n",
            "    Uninstalling requests-2.23.0:\n",
            "      Successfully uninstalled requests-2.23.0\n",
            "Successfully installed craft-text-detection-0.0.2 idna-2.8 opencv-python-3.4.2.17 pillow-6.2.0 requests-2.22.0 scikit-image-0.14.2 scipy-1.1.0 torch-0.4.1 torchvision-0.2.1\n"
          ],
          "name": "stdout"
        },
        {
          "output_type": "display_data",
          "data": {
            "application/vnd.colab-display-data+json": {
              "pip_warning": {
                "packages": [
                  "PIL",
                  "idna",
                  "requests"
                ]
              }
            }
          },
          "metadata": {
            "tags": []
          }
        }
      ]
    },
    {
      "cell_type": "markdown",
      "metadata": {
        "id": "SE8CbkMxtJ5X",
        "colab_type": "text"
      },
      "source": [
        "# Import modules and connect Colab to Google Drive. "
      ]
    },
    {
      "cell_type": "code",
      "metadata": {
        "id": "-goQoDtjaZyL",
        "colab_type": "code",
        "outputId": "aab49f7e-24ec-4c26-fa2b-c5737cd3c461",
        "colab": {
          "base_uri": "https://localhost:8080/",
          "height": 139
        }
      },
      "source": [
        "import numpy as np # linear algebra\n",
        "import pandas as pd # data processing, CSV file I/O (e.g. pd.read_csv)\n",
        "import craft\n",
        "import os\n",
        "import matplotlib.pyplot as plt\n",
        "import cv2\n",
        "import glob\n",
        "from google.colab.patches import cv2_imshow\n",
        "\n",
        "# Load the Drive helper and mount\n",
        "from google.colab import drive\n",
        "\n",
        "# This will prompt for authorization.\n",
        "drive.mount('/content/drive')"
      ],
      "execution_count": 0,
      "outputs": [
        {
          "output_type": "stream",
          "text": [
            "downloading model\n",
            "Go to this URL in a browser: https://accounts.google.com/o/oauth2/auth?client_id=947318989803-6bn6qk8qdgf4n4g3pfee6491hc0brc4i.apps.googleusercontent.com&redirect_uri=urn%3aietf%3awg%3aoauth%3a2.0%3aoob&response_type=code&scope=email%20https%3a%2f%2fwww.googleapis.com%2fauth%2fdocs.test%20https%3a%2f%2fwww.googleapis.com%2fauth%2fdrive%20https%3a%2f%2fwww.googleapis.com%2fauth%2fdrive.photos.readonly%20https%3a%2f%2fwww.googleapis.com%2fauth%2fpeopleapi.readonly\n",
            "\n",
            "Enter your authorization code:\n",
            "··········\n",
            "Mounted at /content/drive\n"
          ],
          "name": "stdout"
        }
      ]
    },
    {
      "cell_type": "markdown",
      "metadata": {
        "id": "R88z3z8rtc9U",
        "colab_type": "text"
      },
      "source": [
        "# Import labels file."
      ]
    },
    {
      "cell_type": "code",
      "metadata": {
        "id": "cnPrfAhuagsI",
        "colab_type": "code",
        "outputId": "b128c147-1727-4b09-e39f-38bf0deff2eb",
        "colab": {
          "base_uri": "https://localhost:8080/",
          "height": 816
        }
      },
      "source": [
        "#Label\n",
        "df = pd.read_csv('/content/drive/My Drive/IAM word/words_label.txt', delimiter=' ',header=None ,error_bad_lines=False ,engine='python')\n",
        "df = df.drop(columns=[1,2,3,4,5,6,7]).rename(columns={0: \"img_name\", 8: \"img_label\"})\n",
        "df.head()"
      ],
      "execution_count": 0,
      "outputs": [
        {
          "output_type": "stream",
          "text": [
            "Skipping line 16939: ' ' expected after '\"'\n",
            "Skipping line 16941: ' ' expected after '\"'\n",
            "Skipping line 16976: ' ' expected after '\"'\n",
            "Skipping line 63758: field larger than field limit (131072)\n",
            "Skipping line 23: Expected 9 fields in line 23, saw 10\n",
            "Skipping line 48: Expected 9 fields in line 48, saw 10\n",
            "Skipping line 75: Expected 9 fields in line 75, saw 10\n",
            "Skipping line 100: Expected 9 fields in line 100, saw 10\n",
            "Skipping line 118: Expected 9 fields in line 118, saw 10\n",
            "Skipping line 136: Expected 9 fields in line 136, saw 10\n",
            "Skipping line 196: Expected 9 fields in line 196, saw 10\n",
            "Skipping line 215: Expected 9 fields in line 215, saw 10\n",
            "Skipping line 273: Expected 9 fields in line 273, saw 10\n",
            "Skipping line 291: Expected 9 fields in line 291, saw 10\n",
            "Skipping line 1345: Expected 9 fields in line 1345, saw 10\n",
            "Skipping line 1421: Expected 9 fields in line 1421, saw 10\n",
            "Skipping line 1498: Expected 9 fields in line 1498, saw 10\n",
            "Skipping line 2351: Expected 9 fields in line 2351, saw 10\n",
            "Skipping line 19775: Expected 9 fields in line 19775, saw 11\n",
            "Skipping line 19957: Expected 9 fields in line 19957, saw 11\n",
            "Skipping line 20708: Expected 9 fields in line 20708, saw 11\n",
            "Skipping line 20740: Expected 9 fields in line 20740, saw 10\n",
            "Skipping line 20781: Expected 9 fields in line 20781, saw 11\n",
            "Skipping line 20798: Expected 9 fields in line 20798, saw 11\n",
            "Skipping line 20819: Expected 9 fields in line 20819, saw 11\n",
            "Skipping line 20850: Expected 9 fields in line 20850, saw 11\n",
            "Skipping line 20895: Expected 9 fields in line 20895, saw 11\n",
            "Skipping line 20927: Expected 9 fields in line 20927, saw 10\n",
            "Skipping line 20943: Expected 9 fields in line 20943, saw 11\n",
            "Skipping line 20948: Expected 9 fields in line 20948, saw 10\n",
            "Skipping line 20998: Expected 9 fields in line 20998, saw 10\n",
            "Skipping line 21082: Expected 9 fields in line 21082, saw 10\n",
            "Skipping line 21099: Expected 9 fields in line 21099, saw 11\n",
            "Skipping line 21159: Expected 9 fields in line 21159, saw 11\n",
            "Skipping line 21194: Expected 9 fields in line 21194, saw 10\n",
            "Skipping line 59201: Expected 9 fields in line 59201, saw 11\n"
          ],
          "name": "stderr"
        },
        {
          "output_type": "execute_result",
          "data": {
            "text/html": [
              "<div>\n",
              "<style scoped>\n",
              "    .dataframe tbody tr th:only-of-type {\n",
              "        vertical-align: middle;\n",
              "    }\n",
              "\n",
              "    .dataframe tbody tr th {\n",
              "        vertical-align: top;\n",
              "    }\n",
              "\n",
              "    .dataframe thead th {\n",
              "        text-align: right;\n",
              "    }\n",
              "</style>\n",
              "<table border=\"1\" class=\"dataframe\">\n",
              "  <thead>\n",
              "    <tr style=\"text-align: right;\">\n",
              "      <th></th>\n",
              "      <th>img_name</th>\n",
              "      <th>img_label</th>\n",
              "    </tr>\n",
              "  </thead>\n",
              "  <tbody>\n",
              "    <tr>\n",
              "      <th>0</th>\n",
              "      <td>a01-000u-00-00</td>\n",
              "      <td>A</td>\n",
              "    </tr>\n",
              "    <tr>\n",
              "      <th>1</th>\n",
              "      <td>a01-000u-00-01</td>\n",
              "      <td>MOVE</td>\n",
              "    </tr>\n",
              "    <tr>\n",
              "      <th>2</th>\n",
              "      <td>a01-000u-00-02</td>\n",
              "      <td>to</td>\n",
              "    </tr>\n",
              "    <tr>\n",
              "      <th>3</th>\n",
              "      <td>a01-000u-00-03</td>\n",
              "      <td>stop</td>\n",
              "    </tr>\n",
              "    <tr>\n",
              "      <th>4</th>\n",
              "      <td>a01-000u-00-04</td>\n",
              "      <td>Mr.</td>\n",
              "    </tr>\n",
              "  </tbody>\n",
              "</table>\n",
              "</div>"
            ],
            "text/plain": [
              "         img_name img_label\n",
              "0  a01-000u-00-00         A\n",
              "1  a01-000u-00-01      MOVE\n",
              "2  a01-000u-00-02        to\n",
              "3  a01-000u-00-03      stop\n",
              "4  a01-000u-00-04       Mr."
            ]
          },
          "metadata": {
            "tags": []
          },
          "execution_count": 58
        }
      ]
    },
    {
      "cell_type": "code",
      "metadata": {
        "id": "JDaxvf7zGx8M",
        "colab_type": "code",
        "outputId": "04a4209b-3faa-44f3-bdbd-d1486aec862a",
        "colab": {
          "base_uri": "https://localhost:8080/",
          "height": 979
        }
      },
      "source": [
        "df.head(30)"
      ],
      "execution_count": 0,
      "outputs": [
        {
          "output_type": "execute_result",
          "data": {
            "text/html": [
              "<div>\n",
              "<style scoped>\n",
              "    .dataframe tbody tr th:only-of-type {\n",
              "        vertical-align: middle;\n",
              "    }\n",
              "\n",
              "    .dataframe tbody tr th {\n",
              "        vertical-align: top;\n",
              "    }\n",
              "\n",
              "    .dataframe thead th {\n",
              "        text-align: right;\n",
              "    }\n",
              "</style>\n",
              "<table border=\"1\" class=\"dataframe\">\n",
              "  <thead>\n",
              "    <tr style=\"text-align: right;\">\n",
              "      <th></th>\n",
              "      <th>img_name</th>\n",
              "      <th>img_label</th>\n",
              "    </tr>\n",
              "  </thead>\n",
              "  <tbody>\n",
              "    <tr>\n",
              "      <th>0</th>\n",
              "      <td>a01-000u-00-00</td>\n",
              "      <td>A</td>\n",
              "    </tr>\n",
              "    <tr>\n",
              "      <th>1</th>\n",
              "      <td>a01-000u-00-01</td>\n",
              "      <td>MOVE</td>\n",
              "    </tr>\n",
              "    <tr>\n",
              "      <th>2</th>\n",
              "      <td>a01-000u-00-02</td>\n",
              "      <td>to</td>\n",
              "    </tr>\n",
              "    <tr>\n",
              "      <th>3</th>\n",
              "      <td>a01-000u-00-03</td>\n",
              "      <td>stop</td>\n",
              "    </tr>\n",
              "    <tr>\n",
              "      <th>4</th>\n",
              "      <td>a01-000u-00-04</td>\n",
              "      <td>Mr.</td>\n",
              "    </tr>\n",
              "    <tr>\n",
              "      <th>5</th>\n",
              "      <td>a01-000u-00-05</td>\n",
              "      <td>Gaitskell</td>\n",
              "    </tr>\n",
              "    <tr>\n",
              "      <th>6</th>\n",
              "      <td>a01-000u-00-06</td>\n",
              "      <td>from</td>\n",
              "    </tr>\n",
              "    <tr>\n",
              "      <th>7</th>\n",
              "      <td>a01-000u-01-00</td>\n",
              "      <td>nominating</td>\n",
              "    </tr>\n",
              "    <tr>\n",
              "      <th>8</th>\n",
              "      <td>a01-000u-01-01</td>\n",
              "      <td>any</td>\n",
              "    </tr>\n",
              "    <tr>\n",
              "      <th>9</th>\n",
              "      <td>a01-000u-01-02</td>\n",
              "      <td>more</td>\n",
              "    </tr>\n",
              "    <tr>\n",
              "      <th>10</th>\n",
              "      <td>a01-000u-01-03</td>\n",
              "      <td>Labour</td>\n",
              "    </tr>\n",
              "    <tr>\n",
              "      <th>11</th>\n",
              "      <td>a01-000u-01-04</td>\n",
              "      <td>life</td>\n",
              "    </tr>\n",
              "    <tr>\n",
              "      <th>12</th>\n",
              "      <td>a01-000u-01-05</td>\n",
              "      <td>Peers</td>\n",
              "    </tr>\n",
              "    <tr>\n",
              "      <th>13</th>\n",
              "      <td>a01-000u-02-00</td>\n",
              "      <td>is</td>\n",
              "    </tr>\n",
              "    <tr>\n",
              "      <th>14</th>\n",
              "      <td>a01-000u-02-01</td>\n",
              "      <td>to</td>\n",
              "    </tr>\n",
              "    <tr>\n",
              "      <th>15</th>\n",
              "      <td>a01-000u-02-02</td>\n",
              "      <td>be</td>\n",
              "    </tr>\n",
              "    <tr>\n",
              "      <th>16</th>\n",
              "      <td>a01-000u-02-03</td>\n",
              "      <td>made</td>\n",
              "    </tr>\n",
              "    <tr>\n",
              "      <th>17</th>\n",
              "      <td>a01-000u-02-04</td>\n",
              "      <td>at</td>\n",
              "    </tr>\n",
              "    <tr>\n",
              "      <th>18</th>\n",
              "      <td>a01-000u-02-05</td>\n",
              "      <td>a</td>\n",
              "    </tr>\n",
              "    <tr>\n",
              "      <th>19</th>\n",
              "      <td>a01-000u-02-06</td>\n",
              "      <td>meeting</td>\n",
              "    </tr>\n",
              "    <tr>\n",
              "      <th>20</th>\n",
              "      <td>a01-000u-02-07</td>\n",
              "      <td>of</td>\n",
              "    </tr>\n",
              "    <tr>\n",
              "      <th>21</th>\n",
              "      <td>a01-000u-02-08</td>\n",
              "      <td>Labour</td>\n",
              "    </tr>\n",
              "    <tr>\n",
              "      <th>22</th>\n",
              "      <td>a01-000u-03-01</td>\n",
              "      <td>tomorrow</td>\n",
              "    </tr>\n",
              "    <tr>\n",
              "      <th>23</th>\n",
              "      <td>a01-000u-03-02</td>\n",
              "      <td>.</td>\n",
              "    </tr>\n",
              "    <tr>\n",
              "      <th>24</th>\n",
              "      <td>a01-000u-03-03</td>\n",
              "      <td>Mr.</td>\n",
              "    </tr>\n",
              "    <tr>\n",
              "      <th>25</th>\n",
              "      <td>a01-000u-03-04</td>\n",
              "      <td>Michael</td>\n",
              "    </tr>\n",
              "    <tr>\n",
              "      <th>26</th>\n",
              "      <td>a01-000u-03-05</td>\n",
              "      <td>Foot</td>\n",
              "    </tr>\n",
              "    <tr>\n",
              "      <th>27</th>\n",
              "      <td>a01-000u-03-06</td>\n",
              "      <td>has</td>\n",
              "    </tr>\n",
              "    <tr>\n",
              "      <th>28</th>\n",
              "      <td>a01-000u-04-00</td>\n",
              "      <td>put</td>\n",
              "    </tr>\n",
              "    <tr>\n",
              "      <th>29</th>\n",
              "      <td>a01-000u-04-01</td>\n",
              "      <td>down</td>\n",
              "    </tr>\n",
              "  </tbody>\n",
              "</table>\n",
              "</div>"
            ],
            "text/plain": [
              "          img_name   img_label\n",
              "0   a01-000u-00-00           A\n",
              "1   a01-000u-00-01        MOVE\n",
              "2   a01-000u-00-02          to\n",
              "3   a01-000u-00-03        stop\n",
              "4   a01-000u-00-04         Mr.\n",
              "5   a01-000u-00-05   Gaitskell\n",
              "6   a01-000u-00-06        from\n",
              "7   a01-000u-01-00  nominating\n",
              "8   a01-000u-01-01         any\n",
              "9   a01-000u-01-02        more\n",
              "10  a01-000u-01-03      Labour\n",
              "11  a01-000u-01-04        life\n",
              "12  a01-000u-01-05       Peers\n",
              "13  a01-000u-02-00          is\n",
              "14  a01-000u-02-01          to\n",
              "15  a01-000u-02-02          be\n",
              "16  a01-000u-02-03        made\n",
              "17  a01-000u-02-04          at\n",
              "18  a01-000u-02-05           a\n",
              "19  a01-000u-02-06     meeting\n",
              "20  a01-000u-02-07          of\n",
              "21  a01-000u-02-08      Labour\n",
              "22  a01-000u-03-01    tomorrow\n",
              "23  a01-000u-03-02           .\n",
              "24  a01-000u-03-03         Mr.\n",
              "25  a01-000u-03-04     Michael\n",
              "26  a01-000u-03-05        Foot\n",
              "27  a01-000u-03-06         has\n",
              "28  a01-000u-04-00         put\n",
              "29  a01-000u-04-01        down"
            ]
          },
          "metadata": {
            "tags": []
          },
          "execution_count": 3
        }
      ]
    },
    {
      "cell_type": "code",
      "metadata": {
        "id": "rFaJINe7ajVF",
        "colab_type": "code",
        "colab": {}
      },
      "source": [
        "df.set_index(df['img_name'], inplace=True)\n",
        "df = df.drop(['img_name'], axis=1)"
      ],
      "execution_count": 0,
      "outputs": []
    },
    {
      "cell_type": "markdown",
      "metadata": {
        "id": "jrgttXfxtkpy",
        "colab_type": "text"
      },
      "source": [
        "# Iterate through all images and convert them to EMNIST format. Finally, output a csv file in EMNIST format (785 columns with the first being character labels in ASCII code)."
      ]
    },
    {
      "cell_type": "code",
      "metadata": {
        "id": "n5aI2ZWmarrb",
        "colab_type": "code",
        "colab": {}
      },
      "source": [
        "# Glob the training data and load a single image path\n",
        "\n",
        "path = \"/content/drive/My Drive/IAM word/words/a01/a01-000u/{}.png\"\n",
        "\n",
        "path_len = len(path) - 6\n",
        "\n",
        "# Two final lists that will be converted into the EMNIST-like dataframe\n",
        "gray_letters_list = []\n",
        "letters_label_all = []\n",
        "\n",
        "\n",
        "for img in df.index.values:\n",
        "\n",
        "    for file in glob.glob(path.format(img)):\n",
        "        img = cv2.imread(str(file))\n",
        "        img_name = str(file)[path_len:-4] \n",
        "        bboxes, polys, heatmap = craft.detect_text(img, link_threshold = 99999999, text_threshold = 0.4)\n",
        "        img_boxed = craft.show_bounding_boxes(img, bboxes)\n",
        "\n",
        "        # Create a blank dictionary and a list\n",
        "        letters_dict = {}\n",
        "        letters_list = []\n",
        "\n",
        "\n",
        "        for i in range(len(bboxes)):\n",
        "            x1 = bboxes[i][0][0]\n",
        "            y1 = bboxes[i][0][1]\n",
        "            x2 = bboxes[i][1][0]\n",
        "            y2 = bboxes[i][1][1]\n",
        "            x3 = bboxes[i][2][0]\n",
        "            y3 = bboxes[i][2][1]\n",
        "            x4 = bboxes[i][3][0]\n",
        "            y4 = bboxes[i][3][1]\n",
        "\n",
        "            top_left_x = int(min([x1,x2,x3,x4]))\n",
        "            top_left_y = int(min([y1,y2,y3,y4]))\n",
        "            bot_right_x = int(max([x1,x2,x3,x4]))\n",
        "            bot_right_y = int(max([y1,y2,y3,y4]))\n",
        "            letter = img[top_left_y:bot_right_y, top_left_x:bot_right_x]\n",
        "\n",
        "            # Append a new key:value pair to the dictionary with top_left_x value as the key\n",
        "            letters_dict.update({top_left_x:letter})\n",
        "\n",
        "        # Sort the keys, then append the corresponding values to letters_list\n",
        "        for i in sorted(letters_dict.keys()):\n",
        "            letters_list.append(letters_dict[i])\n",
        "\n",
        "        # If there are as many character images in the list as the length of the label\n",
        "        if len(letters_list) == len(df.loc[img_name,'img_label']):\n",
        "            \n",
        "            # Get the list of character labels. We need to drop the labels of the letters which have 0 in their shape \n",
        "            letters_label = list(df.loc[img_name,'img_label'])\n",
        "\n",
        "            # Save to results folder\n",
        "            for letter in letters_list:\n",
        "                \n",
        "                # Get the shape of the letter array\n",
        "                letter_shape = letter.shape\n",
        "\n",
        "                if 0 in letter_shape:\n",
        "                    # Here we drop that letter from the letters_label list\n",
        "                    del letters_label[letters_list.index(letter)]\n",
        "                # If the shape contains 1 dimension equal to 0, cv2.resize() will raise an error\n",
        "                elif 0 not in letter_shape:\n",
        "\n",
        "                    letter_edit = np.mean(letter, axis=2)\n",
        "                    letter_edit = cv2.resize(letter_edit, (28,28))\n",
        "                    letter_edit = letter_edit / 255.0 # Normalize and convert to float\n",
        "                    letter_edit = letter_edit.tolist() \n",
        "\n",
        "                    pixel_letter = []\n",
        "\n",
        "                    # Create a list of all pixels \n",
        "                    for pixel_list in letter_edit:\n",
        "                        for pixel in pixel_list:\n",
        "                            pixel_letter.append(pixel)\n",
        "\n",
        "                    gray_pixel_letter = []\n",
        "                    thres_black = 0.25\n",
        "\n",
        "                    # Change background to black, character to white\n",
        "                    for pixel in pixel_letter:\n",
        "                        pixel = 1 - pixel\n",
        "                        if pixel < thres_black:\n",
        "                            pixel = 0\n",
        "                        gray_pixel_letter.append(pixel)\n",
        "\n",
        "                    def reshape_ima(image):\n",
        "                        image = image.reshape(28, 28)\n",
        "                        return image \n",
        "\n",
        "                    # Reshape\n",
        "                    gray_pixel_letter = np.apply_along_axis(reshape_ima, 0, gray_pixel_letter)\n",
        "                    gray_pixel_letter = gray_pixel_letter * 255\n",
        "                    gray_pixel_letter = gray_pixel_letter.flatten()\n",
        "\n",
        "                    gray_letters_list.append(gray_pixel_letter)\n",
        "                            \n",
        "                    # Plotting\n",
        "                    # plt.imshow(gray_pixel_letter, cmap='gray')\n",
        "                    # plt.show()\n",
        "\n",
        "            for label in letters_label:\n",
        "                letters_label_all.append(label)"
      ],
      "execution_count": 0,
      "outputs": []
    },
    {
      "cell_type": "code",
      "metadata": {
        "id": "07pcfaj9QQED",
        "colab_type": "code",
        "outputId": "c9904b79-a891-482a-aaf9-708f514e9a64",
        "colab": {
          "base_uri": "https://localhost:8080/",
          "height": 34
        }
      },
      "source": [
        "# Check how many character labels do we have in total\n",
        "print(len(letters_label_all))\n",
        "\n",
        "# Convert character to ascii\n",
        "letters_label_all = [ord(label) for label in letters_label_all]"
      ],
      "execution_count": 0,
      "outputs": [
        {
          "output_type": "stream",
          "text": [
            "46\n"
          ],
          "name": "stdout"
        }
      ]
    },
    {
      "cell_type": "code",
      "metadata": {
        "id": "3wRCuktXDtB1",
        "colab_type": "code",
        "outputId": "a448422f-fd37-416f-879c-5a3bd257a697",
        "colab": {
          "base_uri": "https://localhost:8080/",
          "height": 850
        }
      },
      "source": [
        "pixels = {}\n",
        "\n",
        "# Append letters in gray_letters_list (in the flattened format) into pixels dictionary\n",
        "for i in range(len(letters_label_all)):\n",
        "    pixels.update({i:gray_letters_list[i]})\n",
        "\n",
        "# pixels_df has the shape (784,x), .T method is to transpose it to shape (x,784)\n",
        "# x is the length of letters_label_all that we just checked earlier\n",
        "pixels_df = pd.DataFrame(pixels).T\n",
        "\n",
        "# Insert the label column to the first position\n",
        "pixels_df.insert(0,'label',letters_label_all)\n",
        "\n",
        "print(pixels_df)"
      ],
      "execution_count": 0,
      "outputs": [
        {
          "output_type": "stream",
          "text": [
            "    label           0           1  ...         781         782         783\n",
            "0      77    0.000000    0.000000  ...    0.000000    0.000000    0.000000\n",
            "1      79    0.000000    0.000000  ...    0.000000    0.000000    0.000000\n",
            "2      86    0.000000    0.000000  ...    0.000000    0.000000    0.000000\n",
            "3      69    0.000000    0.000000  ...    0.000000    0.000000    0.000000\n",
            "4     116    0.000000    0.000000  ...    0.000000    0.000000    0.000000\n",
            "5     111  138.000000  156.750000  ...    0.000000    0.000000    0.000000\n",
            "6     109    0.000000    0.000000  ...    0.000000    0.000000    0.000000\n",
            "7     111    0.000000    0.000000  ...    0.000000    0.000000    0.000000\n",
            "8     114    0.000000    0.000000  ...    0.000000    0.000000    0.000000\n",
            "9     101    0.000000    0.000000  ...   81.026934  122.230953  156.385272\n",
            "10    105    0.000000    0.000000  ...    0.000000    0.000000    0.000000\n",
            "11    115    0.000000    0.000000  ...    0.000000    0.000000    0.000000\n",
            "12    109    0.000000    0.000000  ...    0.000000    0.000000    0.000000\n",
            "13     97    0.000000    0.000000  ...    0.000000    0.000000    0.000000\n",
            "14    100    0.000000    0.000000  ...    0.000000    0.000000    0.000000\n",
            "15    101    0.000000    0.000000  ...  205.105870  217.757015  215.586103\n",
            "16    111    0.000000    0.000000  ...    0.000000    0.000000    0.000000\n",
            "17    102    0.000000    0.000000  ...    0.000000    0.000000    0.000000\n",
            "18    116    0.000000    0.000000  ...    0.000000    0.000000    0.000000\n",
            "19    111    0.000000    0.000000  ...    0.000000    0.000000    0.000000\n",
            "20    109    0.000000    0.000000  ...    0.000000    0.000000    0.000000\n",
            "21    111    0.000000    0.000000  ...    0.000000    0.000000    0.000000\n",
            "22    114    0.000000    0.000000  ...    0.000000    0.000000    0.000000\n",
            "23    114    0.000000    0.000000  ...    0.000000    0.000000    0.000000\n",
            "24    111    0.000000    0.000000  ...    0.000000    0.000000    0.000000\n",
            "25    119    0.000000    0.000000  ...    0.000000    0.000000    0.000000\n",
            "26    114    0.000000    0.000000  ...    0.000000    0.000000    0.000000\n",
            "27     46    0.000000    0.000000  ...    0.000000    0.000000    0.000000\n",
            "28     97    0.000000    0.000000  ...    0.000000    0.000000    0.000000\n",
            "29    116    0.000000    0.000000  ...    0.000000    0.000000    0.000000\n",
            "30    104    0.000000    0.000000  ...    0.000000    0.000000    0.000000\n",
            "31    101    0.000000    0.000000  ...  205.591836  211.913263  211.178570\n",
            "32    104    0.000000  126.060579  ...  110.847112  103.670464   80.514238\n",
            "33    101    0.000000    0.000000  ...  220.397956  220.071430  219.734695\n",
            "34    116    0.000000    0.000000  ...    0.000000    0.000000    0.000000\n",
            "35    111    0.000000    0.000000  ...  150.040148    0.000000    0.000000\n",
            "36     98    0.000000    0.000000  ...    0.000000    0.000000    0.000000\n",
            "37    101    0.000000    0.000000  ...   78.981051  123.453236  144.442451\n",
            "38     98  103.955362  170.918369  ...    0.000000    0.000000    0.000000\n",
            "39    121    0.000000    0.000000  ...    0.000000   84.173428  204.403099\n",
            "40     77    0.000000    0.000000  ...    0.000000    0.000000    0.000000\n",
            "41    114    0.000000    0.000000  ...    0.000000    0.000000    0.000000\n",
            "42     46    0.000000    0.000000  ...    0.000000    0.000000    0.000000\n",
            "43    102    0.000000    0.000000  ...    0.000000    0.000000    0.000000\n",
            "44    111    0.000000    0.000000  ...    0.000000    0.000000    0.000000\n",
            "45    114    0.000000    0.000000  ...    0.000000    0.000000    0.000000\n",
            "\n",
            "[46 rows x 785 columns]\n"
          ],
          "name": "stdout"
        }
      ]
    },
    {
      "cell_type": "code",
      "metadata": {
        "id": "r2L5y_CRPbd9",
        "colab_type": "code",
        "colab": {}
      },
      "source": [
        "# Output csv file\n",
        "pixels_df.to_csv(\"/content/drive/My Drive/IAM word/words/a01/results/iam.csv\")"
      ],
      "execution_count": 0,
      "outputs": []
    },
    {
      "cell_type": "code",
      "metadata": {
        "id": "BHa5W8g1zAzq",
        "colab_type": "code",
        "colab": {}
      },
      "source": [
        "#           for filename in os.listdir('/content/result'):\n",
        "#               files.download('/content/result/'+filename)\n"
      ],
      "execution_count": 0,
      "outputs": []
    }
  ]
}

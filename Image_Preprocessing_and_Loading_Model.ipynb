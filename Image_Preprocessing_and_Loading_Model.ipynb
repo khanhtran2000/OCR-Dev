{
  "nbformat": 4,
  "nbformat_minor": 0,
  "metadata": {
    "colab": {
      "name": "Image Preprocessing and Loading Model.ipynb",
      "provenance": [],
      "collapsed_sections": [],
      "authorship_tag": "ABX9TyOVj2SLrCD93IHrVvKLXtX+",
      "include_colab_link": true
    },
    "kernelspec": {
      "name": "python3",
      "display_name": "Python 3"
    }
  },
  "cells": [
    {
      "cell_type": "markdown",
      "metadata": {
        "id": "view-in-github",
        "colab_type": "text"
      },
      "source": [
        "<a href=\"https://colab.research.google.com/github/khanhtran2000/OCR-Dev/blob/master/Image_Preprocessing_and_Loading_Model.ipynb\" target=\"_parent\"><img src=\"https://colab.research.google.com/assets/colab-badge.svg\" alt=\"Open In Colab\"/></a>"
      ]
    },
    {
      "cell_type": "code",
      "metadata": {
        "id": "x--zOXe1fMbc",
        "colab_type": "code",
        "colab": {
          "base_uri": "https://localhost:8080/",
          "height": 122
        },
        "outputId": "4fea476a-ce1d-4aa5-dee5-41a8620408fd"
      },
      "source": [
        "# Load the Drive helper and mount\n",
        "from google.colab import drive\n",
        "\n",
        "# This will prompt for authorization.\n",
        "drive.mount('/content/drive')"
      ],
      "execution_count": 1,
      "outputs": [
        {
          "output_type": "stream",
          "text": [
            "Go to this URL in a browser: https://accounts.google.com/o/oauth2/auth?client_id=947318989803-6bn6qk8qdgf4n4g3pfee6491hc0brc4i.apps.googleusercontent.com&redirect_uri=urn%3aietf%3awg%3aoauth%3a2.0%3aoob&response_type=code&scope=email%20https%3a%2f%2fwww.googleapis.com%2fauth%2fdocs.test%20https%3a%2f%2fwww.googleapis.com%2fauth%2fdrive%20https%3a%2f%2fwww.googleapis.com%2fauth%2fdrive.photos.readonly%20https%3a%2f%2fwww.googleapis.com%2fauth%2fpeopleapi.readonly\n",
            "\n",
            "Enter your authorization code:\n",
            "··········\n",
            "Mounted at /content/drive\n"
          ],
          "name": "stdout"
        }
      ]
    },
    {
      "cell_type": "code",
      "metadata": {
        "id": "R17vCI4KgCJZ",
        "colab_type": "code",
        "colab": {}
      },
      "source": [
        "import pandas as pd\n",
        "import numpy as np\n",
        "import tensorflow as tf\n",
        "from tensorflow.keras.models import load_model\n",
        "import cv2 as cv\n",
        "import matplotlib.pyplot as plt\n",
        "\n",
        "# Image preprocessing module\n",
        "from PIL import Image, ImageFilter"
      ],
      "execution_count": 0,
      "outputs": []
    },
    {
      "cell_type": "code",
      "metadata": {
        "id": "4ThGPUVWg94g",
        "colab_type": "code",
        "colab": {
          "base_uri": "https://localhost:8080/",
          "height": 204
        },
        "outputId": "1f38e4d5-f5f3-438a-f118-b3441ba281b5"
      },
      "source": [
        "# Load dataset\n",
        "mapp = pd.read_csv('/content/drive/My Drive/EMNIST/emnist-bymerge-mapping.txt',\n",
        "    delimiter=' ',\n",
        "    names=['ASCII']\n",
        "    )\n",
        "\n",
        "mapp.head()"
      ],
      "execution_count": 54,
      "outputs": [
        {
          "output_type": "execute_result",
          "data": {
            "text/html": [
              "<div>\n",
              "<style scoped>\n",
              "    .dataframe tbody tr th:only-of-type {\n",
              "        vertical-align: middle;\n",
              "    }\n",
              "\n",
              "    .dataframe tbody tr th {\n",
              "        vertical-align: top;\n",
              "    }\n",
              "\n",
              "    .dataframe thead th {\n",
              "        text-align: right;\n",
              "    }\n",
              "</style>\n",
              "<table border=\"1\" class=\"dataframe\">\n",
              "  <thead>\n",
              "    <tr style=\"text-align: right;\">\n",
              "      <th></th>\n",
              "      <th>ASCII</th>\n",
              "    </tr>\n",
              "  </thead>\n",
              "  <tbody>\n",
              "    <tr>\n",
              "      <th>0</th>\n",
              "      <td>48</td>\n",
              "    </tr>\n",
              "    <tr>\n",
              "      <th>1</th>\n",
              "      <td>49</td>\n",
              "    </tr>\n",
              "    <tr>\n",
              "      <th>2</th>\n",
              "      <td>50</td>\n",
              "    </tr>\n",
              "    <tr>\n",
              "      <th>3</th>\n",
              "      <td>51</td>\n",
              "    </tr>\n",
              "    <tr>\n",
              "      <th>4</th>\n",
              "      <td>52</td>\n",
              "    </tr>\n",
              "  </tbody>\n",
              "</table>\n",
              "</div>"
            ],
            "text/plain": [
              "   ASCII\n",
              "0     48\n",
              "1     49\n",
              "2     50\n",
              "3     51\n",
              "4     52"
            ]
          },
          "metadata": {
            "tags": []
          },
          "execution_count": 54
        }
      ]
    },
    {
      "cell_type": "code",
      "metadata": {
        "id": "ofSxGO8HmG6y",
        "colab_type": "code",
        "colab": {
          "base_uri": "https://localhost:8080/",
          "height": 1000
        },
        "outputId": "eac8a799-5dfa-4811-efd6-5aa7bdb275fc"
      },
      "source": [
        "string_list = [chr(i) for i in mapp['ASCII'].values]\n",
        "string_list\n",
        "mapp['String'] = string_list\n",
        "mapp"
      ],
      "execution_count": 217,
      "outputs": [
        {
          "output_type": "execute_result",
          "data": {
            "text/html": [
              "<div>\n",
              "<style scoped>\n",
              "    .dataframe tbody tr th:only-of-type {\n",
              "        vertical-align: middle;\n",
              "    }\n",
              "\n",
              "    .dataframe tbody tr th {\n",
              "        vertical-align: top;\n",
              "    }\n",
              "\n",
              "    .dataframe thead th {\n",
              "        text-align: right;\n",
              "    }\n",
              "</style>\n",
              "<table border=\"1\" class=\"dataframe\">\n",
              "  <thead>\n",
              "    <tr style=\"text-align: right;\">\n",
              "      <th></th>\n",
              "      <th>ASCII</th>\n",
              "      <th>String</th>\n",
              "    </tr>\n",
              "  </thead>\n",
              "  <tbody>\n",
              "    <tr>\n",
              "      <th>0</th>\n",
              "      <td>48</td>\n",
              "      <td>0</td>\n",
              "    </tr>\n",
              "    <tr>\n",
              "      <th>1</th>\n",
              "      <td>49</td>\n",
              "      <td>1</td>\n",
              "    </tr>\n",
              "    <tr>\n",
              "      <th>2</th>\n",
              "      <td>50</td>\n",
              "      <td>2</td>\n",
              "    </tr>\n",
              "    <tr>\n",
              "      <th>3</th>\n",
              "      <td>51</td>\n",
              "      <td>3</td>\n",
              "    </tr>\n",
              "    <tr>\n",
              "      <th>4</th>\n",
              "      <td>52</td>\n",
              "      <td>4</td>\n",
              "    </tr>\n",
              "    <tr>\n",
              "      <th>5</th>\n",
              "      <td>53</td>\n",
              "      <td>5</td>\n",
              "    </tr>\n",
              "    <tr>\n",
              "      <th>6</th>\n",
              "      <td>54</td>\n",
              "      <td>6</td>\n",
              "    </tr>\n",
              "    <tr>\n",
              "      <th>7</th>\n",
              "      <td>55</td>\n",
              "      <td>7</td>\n",
              "    </tr>\n",
              "    <tr>\n",
              "      <th>8</th>\n",
              "      <td>56</td>\n",
              "      <td>8</td>\n",
              "    </tr>\n",
              "    <tr>\n",
              "      <th>9</th>\n",
              "      <td>57</td>\n",
              "      <td>9</td>\n",
              "    </tr>\n",
              "    <tr>\n",
              "      <th>10</th>\n",
              "      <td>65</td>\n",
              "      <td>A</td>\n",
              "    </tr>\n",
              "    <tr>\n",
              "      <th>11</th>\n",
              "      <td>66</td>\n",
              "      <td>B</td>\n",
              "    </tr>\n",
              "    <tr>\n",
              "      <th>12</th>\n",
              "      <td>67</td>\n",
              "      <td>C</td>\n",
              "    </tr>\n",
              "    <tr>\n",
              "      <th>13</th>\n",
              "      <td>68</td>\n",
              "      <td>D</td>\n",
              "    </tr>\n",
              "    <tr>\n",
              "      <th>14</th>\n",
              "      <td>69</td>\n",
              "      <td>E</td>\n",
              "    </tr>\n",
              "    <tr>\n",
              "      <th>15</th>\n",
              "      <td>70</td>\n",
              "      <td>F</td>\n",
              "    </tr>\n",
              "    <tr>\n",
              "      <th>16</th>\n",
              "      <td>71</td>\n",
              "      <td>G</td>\n",
              "    </tr>\n",
              "    <tr>\n",
              "      <th>17</th>\n",
              "      <td>72</td>\n",
              "      <td>H</td>\n",
              "    </tr>\n",
              "    <tr>\n",
              "      <th>18</th>\n",
              "      <td>73</td>\n",
              "      <td>I</td>\n",
              "    </tr>\n",
              "    <tr>\n",
              "      <th>19</th>\n",
              "      <td>74</td>\n",
              "      <td>J</td>\n",
              "    </tr>\n",
              "    <tr>\n",
              "      <th>20</th>\n",
              "      <td>75</td>\n",
              "      <td>K</td>\n",
              "    </tr>\n",
              "    <tr>\n",
              "      <th>21</th>\n",
              "      <td>76</td>\n",
              "      <td>L</td>\n",
              "    </tr>\n",
              "    <tr>\n",
              "      <th>22</th>\n",
              "      <td>77</td>\n",
              "      <td>M</td>\n",
              "    </tr>\n",
              "    <tr>\n",
              "      <th>23</th>\n",
              "      <td>78</td>\n",
              "      <td>N</td>\n",
              "    </tr>\n",
              "    <tr>\n",
              "      <th>24</th>\n",
              "      <td>79</td>\n",
              "      <td>O</td>\n",
              "    </tr>\n",
              "    <tr>\n",
              "      <th>25</th>\n",
              "      <td>80</td>\n",
              "      <td>P</td>\n",
              "    </tr>\n",
              "    <tr>\n",
              "      <th>26</th>\n",
              "      <td>81</td>\n",
              "      <td>Q</td>\n",
              "    </tr>\n",
              "    <tr>\n",
              "      <th>27</th>\n",
              "      <td>82</td>\n",
              "      <td>R</td>\n",
              "    </tr>\n",
              "    <tr>\n",
              "      <th>28</th>\n",
              "      <td>83</td>\n",
              "      <td>S</td>\n",
              "    </tr>\n",
              "    <tr>\n",
              "      <th>29</th>\n",
              "      <td>84</td>\n",
              "      <td>T</td>\n",
              "    </tr>\n",
              "    <tr>\n",
              "      <th>30</th>\n",
              "      <td>85</td>\n",
              "      <td>U</td>\n",
              "    </tr>\n",
              "    <tr>\n",
              "      <th>31</th>\n",
              "      <td>86</td>\n",
              "      <td>V</td>\n",
              "    </tr>\n",
              "    <tr>\n",
              "      <th>32</th>\n",
              "      <td>87</td>\n",
              "      <td>W</td>\n",
              "    </tr>\n",
              "    <tr>\n",
              "      <th>33</th>\n",
              "      <td>88</td>\n",
              "      <td>X</td>\n",
              "    </tr>\n",
              "    <tr>\n",
              "      <th>34</th>\n",
              "      <td>89</td>\n",
              "      <td>Y</td>\n",
              "    </tr>\n",
              "    <tr>\n",
              "      <th>35</th>\n",
              "      <td>90</td>\n",
              "      <td>Z</td>\n",
              "    </tr>\n",
              "    <tr>\n",
              "      <th>36</th>\n",
              "      <td>97</td>\n",
              "      <td>a</td>\n",
              "    </tr>\n",
              "    <tr>\n",
              "      <th>37</th>\n",
              "      <td>98</td>\n",
              "      <td>b</td>\n",
              "    </tr>\n",
              "    <tr>\n",
              "      <th>38</th>\n",
              "      <td>100</td>\n",
              "      <td>d</td>\n",
              "    </tr>\n",
              "    <tr>\n",
              "      <th>39</th>\n",
              "      <td>101</td>\n",
              "      <td>e</td>\n",
              "    </tr>\n",
              "    <tr>\n",
              "      <th>40</th>\n",
              "      <td>102</td>\n",
              "      <td>f</td>\n",
              "    </tr>\n",
              "    <tr>\n",
              "      <th>41</th>\n",
              "      <td>103</td>\n",
              "      <td>g</td>\n",
              "    </tr>\n",
              "    <tr>\n",
              "      <th>42</th>\n",
              "      <td>104</td>\n",
              "      <td>h</td>\n",
              "    </tr>\n",
              "    <tr>\n",
              "      <th>43</th>\n",
              "      <td>110</td>\n",
              "      <td>n</td>\n",
              "    </tr>\n",
              "    <tr>\n",
              "      <th>44</th>\n",
              "      <td>113</td>\n",
              "      <td>q</td>\n",
              "    </tr>\n",
              "    <tr>\n",
              "      <th>45</th>\n",
              "      <td>114</td>\n",
              "      <td>r</td>\n",
              "    </tr>\n",
              "    <tr>\n",
              "      <th>46</th>\n",
              "      <td>116</td>\n",
              "      <td>t</td>\n",
              "    </tr>\n",
              "  </tbody>\n",
              "</table>\n",
              "</div>"
            ],
            "text/plain": [
              "    ASCII String\n",
              "0      48      0\n",
              "1      49      1\n",
              "2      50      2\n",
              "3      51      3\n",
              "4      52      4\n",
              "5      53      5\n",
              "6      54      6\n",
              "7      55      7\n",
              "8      56      8\n",
              "9      57      9\n",
              "10     65      A\n",
              "11     66      B\n",
              "12     67      C\n",
              "13     68      D\n",
              "14     69      E\n",
              "15     70      F\n",
              "16     71      G\n",
              "17     72      H\n",
              "18     73      I\n",
              "19     74      J\n",
              "20     75      K\n",
              "21     76      L\n",
              "22     77      M\n",
              "23     78      N\n",
              "24     79      O\n",
              "25     80      P\n",
              "26     81      Q\n",
              "27     82      R\n",
              "28     83      S\n",
              "29     84      T\n",
              "30     85      U\n",
              "31     86      V\n",
              "32     87      W\n",
              "33     88      X\n",
              "34     89      Y\n",
              "35     90      Z\n",
              "36     97      a\n",
              "37     98      b\n",
              "38    100      d\n",
              "39    101      e\n",
              "40    102      f\n",
              "41    103      g\n",
              "42    104      h\n",
              "43    110      n\n",
              "44    113      q\n",
              "45    114      r\n",
              "46    116      t"
            ]
          },
          "metadata": {
            "tags": []
          },
          "execution_count": 217
        }
      ]
    },
    {
      "cell_type": "code",
      "metadata": {
        "id": "DXPYc5N7lsaq",
        "colab_type": "code",
        "colab": {
          "base_uri": "https://localhost:8080/",
          "height": 34
        },
        "outputId": "adbf4a70-89cf-4d57-974c-826a3b086d4a"
      },
      "source": [
        "# Load model\n",
        "model = load_model('/content/drive/My Drive/EMNIST/model/emnist_model.h5')\n",
        "model"
      ],
      "execution_count": 50,
      "outputs": [
        {
          "output_type": "execute_result",
          "data": {
            "text/plain": [
              "<tensorflow.python.keras.engine.sequential.Sequential at 0x7fd5584ed6a0>"
            ]
          },
          "metadata": {
            "tags": []
          },
          "execution_count": 50
        }
      ]
    },
    {
      "cell_type": "code",
      "metadata": {
        "id": "cBpvdUAStCWm",
        "colab_type": "code",
        "colab": {}
      },
      "source": [
        "# Convert our own images to MNIST (and EMNIST) format \n",
        "\n",
        "def imageprepare(argv):\n",
        "    \"\"\"\n",
        "    This function returns the pixel values.\n",
        "    The imput is a png file location.\n",
        "    \"\"\"\n",
        "    im = Image.open(argv).convert('L')\n",
        "    width = float(im.size[0])\n",
        "    height = float(im.size[1])\n",
        "    newImage = Image.new('L', (28, 28), (255))  # creates white canvas of 28x28 pixels\n",
        "\n",
        "    if width > height:  # check which dimension is bigger\n",
        "        # Width is bigger. Width becomes 20 pixels.\n",
        "        nheight = int(round((20.0 / width * height), 0))  # resize height according to ratio width\n",
        "        if (nheight == 0):  # rare case but minimum is 1 pixel\n",
        "            nheight = 1\n",
        "            # resize and sharpen\n",
        "        img = im.resize((20, nheight), Image.ANTIALIAS).filter(ImageFilter.SHARPEN)\n",
        "        wtop = int(round(((28 - nheight) / 2), 0))  # calculate horizontal position\n",
        "        newImage.paste(img, (4, wtop))  # paste resized image on white canvas\n",
        "    else:\n",
        "        # Height is bigger. Heigth becomes 20 pixels.\n",
        "        nwidth = int(round((20.0 / height * width), 0))  # resize width according to ratio height\n",
        "        if (nwidth == 0):  # rare case but minimum is 1 pixel\n",
        "            nwidth = 1\n",
        "            # resize and sharpen\n",
        "        img = im.resize((nwidth, 20), Image.ANTIALIAS).filter(ImageFilter.SHARPEN)\n",
        "        wleft = int(round(((28 - nwidth) / 2), 0))  # caculate vertical pozition\n",
        "        newImage.paste(img, (wleft, 4))  # paste resized image on white canvas\n",
        "\n",
        "    # newImage.save(\"sample.png\n",
        "\n",
        "    tv = list(newImage.getdata())  # get pixel values\n",
        "\n",
        "    # normalize pixels to 0 and 1. 0 is pure white, 1 is pure black.\n",
        "    tva = [(255 - x) * 1.0 / 255.0 for x in tv]\n",
        "    return tva"
      ],
      "execution_count": 0,
      "outputs": []
    },
    {
      "cell_type": "code",
      "metadata": {
        "id": "QwcHGmni8Xf7",
        "colab_type": "code",
        "colab": {
          "base_uri": "https://localhost:8080/",
          "height": 71
        },
        "outputId": "1438efae-a0a2-4267-a26b-a68289acbd4f"
      },
      "source": [
        "file = \"/content/drive/My Drive/EMNIST/images/letter_t_2.jpg\"\n",
        "\n",
        "image = imageprepare(file) # file path here\n",
        "print(image) # mnist IMAGES are 28x28=784 pixels\n",
        "print(type(image))"
      ],
      "execution_count": 153,
      "outputs": [
        {
          "output_type": "stream",
          "text": [
            "[0.0, 0.0, 0.0, 0.0, 0.0, 0.0, 0.0, 0.0, 0.0, 0.0, 0.0, 0.0, 0.0, 0.0, 0.0, 0.0, 0.0, 0.0, 0.0, 0.0, 0.0, 0.0, 0.0, 0.0, 0.0, 0.0, 0.0, 0.0, 0.0, 0.0, 0.0, 0.0, 0.0, 0.0, 0.0, 0.0, 0.0, 0.0, 0.0, 0.0, 0.0, 0.0, 0.0, 0.0, 0.0, 0.0, 0.0, 0.0, 0.0, 0.0, 0.0, 0.0, 0.0, 0.0, 0.0, 0.0, 0.0, 0.0, 0.0, 0.0, 0.0, 0.0, 0.0, 0.0, 0.0, 0.0, 0.0, 0.0, 0.0, 0.0, 0.0, 0.0, 0.0, 0.0, 0.0, 0.0, 0.0, 0.0, 0.0, 0.0, 0.0, 0.0, 0.0, 0.0, 0.0, 0.0, 0.0, 0.0, 0.0, 0.0, 0.0, 0.0, 0.0, 0.0, 0.0, 0.0, 0.0, 0.0, 0.0, 0.0, 0.0, 0.0, 0.0, 0.0, 0.0, 0.0, 0.0, 0.0, 0.0, 0.0, 0.0, 0.0, 0.0, 0.0, 0.0, 0.0, 0.12156862745098039, 0.12549019607843137, 0.12156862745098039, 0.12156862745098039, 0.13725490196078433, 0.11372549019607843, 0.10196078431372549, 0.11764705882352941, 0.10980392156862745, 0.12549019607843137, 0.1411764705882353, 0.11764705882352941, 0.12549019607843137, 0.13725490196078433, 0.13725490196078433, 0.12549019607843137, 0.12941176470588237, 0.12549019607843137, 0.12549019607843137, 0.12549019607843137, 0.0, 0.0, 0.0, 0.0, 0.0, 0.0, 0.0, 0.0, 0.12941176470588237, 0.12941176470588237, 0.12156862745098039, 0.11764705882352941, 0.1411764705882353, 0.1450980392156863, 0.14901960784313725, 0.1411764705882353, 0.09803921568627451, 0.11372549019607843, 0.12941176470588237, 0.10588235294117647, 0.10588235294117647, 0.10980392156862745, 0.11372549019607843, 0.11764705882352941, 0.12549019607843137, 0.12549019607843137, 0.12549019607843137, 0.12549019607843137, 0.0, 0.0, 0.0, 0.0, 0.0, 0.0, 0.0, 0.0, 0.12549019607843137, 0.11372549019607843, 0.10588235294117647, 0.10980392156862745, 0.12941176470588237, 0.19215686274509805, 0.1843137254901961, 0.09019607843137255, 0.058823529411764705, 0.16862745098039217, 0.16862745098039217, 0.16470588235294117, 0.1803921568627451, 0.17254901960784313, 0.13725490196078433, 0.11372549019607843, 0.11372549019607843, 0.12549019607843137, 0.12549019607843137, 0.12549019607843137, 0.0, 0.0, 0.0, 0.0, 0.0, 0.0, 0.0, 0.0, 0.11372549019607843, 0.10980392156862745, 0.11764705882352941, 0.12941176470588237, 0.10980392156862745, 0.23529411764705882, 0.35294117647058826, 0.2901960784313726, 0.0, 0.0, 0.0, 0.0, 0.0, 0.08235294117647059, 0.12549019607843137, 0.12156862745098039, 0.11372549019607843, 0.12941176470588237, 0.12549019607843137, 0.12549019607843137, 0.0, 0.0, 0.0, 0.0, 0.0, 0.0, 0.0, 0.0, 0.11764705882352941, 0.12156862745098039, 0.12549019607843137, 0.0784313725490196, 0.0, 0.08235294117647059, 0.3764705882352941, 0.6352941176470588, 0.1843137254901961, 0.0, 0.14901960784313725, 0.29411764705882354, 0.20392156862745098, 0.11372549019607843, 0.11372549019607843, 0.1411764705882353, 0.11372549019607843, 0.12156862745098039, 0.12549019607843137, 0.12549019607843137, 0.0, 0.0, 0.0, 0.0, 0.0, 0.0, 0.0, 0.0, 0.11764705882352941, 0.13725490196078433, 0.13725490196078433, 0.12941176470588237, 0.09803921568627451, 0.20784313725490197, 0.615686274509804, 1.0, 0.6823529411764706, 0.6039215686274509, 0.7843137254901961, 0.8784313725490196, 0.5568627450980392, 0.17254901960784313, 0.06666666666666667, 0.12549019607843137, 0.12156862745098039, 0.12941176470588237, 0.12549019607843137, 0.12549019607843137, 0.0, 0.0, 0.0, 0.0, 0.0, 0.0, 0.0, 0.0, 0.11372549019607843, 0.15294117647058825, 0.1607843137254902, 0.24313725490196078, 0.4588235294117647, 0.5058823529411764, 0.7647058823529411, 1.0, 0.9450980392156862, 0.6431372549019608, 0.4627450980392157, 0.4745098039215686, 0.3176470588235294, 0.09019607843137255, 0.058823529411764705, 0.13333333333333333, 0.10980392156862745, 0.12549019607843137, 0.12549019607843137, 0.12941176470588237, 0.0, 0.0, 0.0, 0.0, 0.0, 0.0, 0.0, 0.0, 0.10980392156862745, 0.1568627450980392, 0.17647058823529413, 0.19215686274509805, 0.27450980392156865, 0.1607843137254902, 0.2901960784313726, 0.7843137254901961, 0.7411764705882353, 0.1411764705882353, 0.0, 0.0, 0.00784313725490196, 0.0784313725490196, 0.13333333333333333, 0.14901960784313725, 0.12941176470588237, 0.12549019607843137, 0.11764705882352941, 0.12549019607843137, 0.0, 0.0, 0.0, 0.0, 0.0, 0.0, 0.0, 0.0, 0.12549019607843137, 0.12549019607843137, 0.10980392156862745, 0.08235294117647059, 0.050980392156862744, 0.0, 0.050980392156862744, 0.5058823529411764, 0.8509803921568627, 0.3764705882352941, 0.0, 0.09411764705882353, 0.14901960784313725, 0.1607843137254902, 0.12941176470588237, 0.12156862745098039, 0.15294117647058825, 0.12156862745098039, 0.11764705882352941, 0.12156862745098039, 0.0, 0.0, 0.0, 0.0, 0.0, 0.0, 0.0, 0.0, 0.12941176470588237, 0.12941176470588237, 0.12941176470588237, 0.14901960784313725, 0.1411764705882353, 0.047058823529411764, 0.027450980392156862, 0.2823529411764706, 0.8980392156862745, 0.6039215686274509, 0.09803921568627451, 0.011764705882352941, 0.12549019607843137, 0.13725490196078433, 0.11764705882352941, 0.11372549019607843, 0.1411764705882353, 0.12549019607843137, 0.11764705882352941, 0.12156862745098039, 0.0, 0.0, 0.0, 0.0, 0.0, 0.0, 0.0, 0.0, 0.12941176470588237, 0.12941176470588237, 0.13725490196078433, 0.1607843137254902, 0.1607843137254902, 0.10196078431372549, 0.0196078431372549, 0.10588235294117647, 0.8666666666666667, 0.7803921568627451, 0.25882352941176473, 0.0, 0.10980392156862745, 0.17254901960784313, 0.15294117647058825, 0.11372549019607843, 0.11372549019607843, 0.12549019607843137, 0.12549019607843137, 0.12156862745098039, 0.0, 0.0, 0.0, 0.0, 0.0, 0.0, 0.0, 0.0, 0.12549019607843137, 0.11764705882352941, 0.11372549019607843, 0.12156862745098039, 0.11372549019607843, 0.13333333333333333, 0.03137254901960784, 0.043137254901960784, 0.7490196078431373, 0.9647058823529412, 0.49019607843137253, 0.0, 0.10588235294117647, 0.15294117647058825, 0.12549019607843137, 0.12549019607843137, 0.1450980392156863, 0.12156862745098039, 0.11372549019607843, 0.12549019607843137, 0.0, 0.0, 0.0, 0.0, 0.0, 0.0, 0.0, 0.0, 0.12549019607843137, 0.11372549019607843, 0.11764705882352941, 0.11764705882352941, 0.11372549019607843, 0.1607843137254902, 0.06274509803921569, 0.0, 0.4745098039215686, 0.9176470588235294, 0.6313725490196078, 0.0, 0.054901960784313725, 0.12941176470588237, 0.1411764705882353, 0.12549019607843137, 0.14901960784313725, 0.13725490196078433, 0.1411764705882353, 0.13725490196078433, 0.0, 0.0, 0.0, 0.0, 0.0, 0.0, 0.0, 0.0, 0.13725490196078433, 0.13725490196078433, 0.13725490196078433, 0.13725490196078433, 0.1411764705882353, 0.15294117647058825, 0.06666666666666667, 0.0, 0.25098039215686274, 0.8352941176470589, 0.7647058823529411, 0.14901960784313725, 0.027450980392156862, 0.09411764705882353, 0.13333333333333333, 0.09411764705882353, 0.1607843137254902, 0.1607843137254902, 0.1411764705882353, 0.12941176470588237, 0.0, 0.0, 0.0, 0.0, 0.0, 0.0, 0.0, 0.0, 0.13725490196078433, 0.13725490196078433, 0.13725490196078433, 0.13725490196078433, 0.13725490196078433, 0.15294117647058825, 0.11372549019607843, 0.0196078431372549, 0.16470588235294117, 0.8117647058823529, 0.8235294117647058, 0.23529411764705882, 0.0, 0.08235294117647059, 0.16862745098039217, 0.10196078431372549, 0.10980392156862745, 0.10980392156862745, 0.09019607843137255, 0.09803921568627451, 0.0, 0.0, 0.0, 0.0, 0.0, 0.0, 0.0, 0.0, 0.11764705882352941, 0.11764705882352941, 0.11372549019607843, 0.11372549019607843, 0.11372549019607843, 0.12156862745098039, 0.10980392156862745, 0.023529411764705882, 0.08627450980392157, 0.7098039215686275, 0.9607843137254902, 0.4980392156862745, 0.0, 0.0392156862745098, 0.12156862745098039, 0.11764705882352941, 0.1568627450980392, 0.10980392156862745, 0.11372549019607843, 0.13333333333333333, 0.0, 0.0, 0.0, 0.0, 0.0, 0.0, 0.0, 0.0, 0.11764705882352941, 0.10980392156862745, 0.12549019607843137, 0.12156862745098039, 0.10588235294117647, 0.11372549019607843, 0.10196078431372549, 0.058823529411764705, 0.054901960784313725, 0.5019607843137255, 0.8392156862745098, 0.6274509803921569, 0.07450980392156863, 0.08235294117647059, 0.17647058823529413, 0.20784313725490197, 0.2, 0.19607843137254902, 0.21568627450980393, 0.20392156862745098, 0.0, 0.0, 0.0, 0.0, 0.0, 0.0, 0.0, 0.0, 0.15294117647058825, 0.1450980392156863, 0.1450980392156863, 0.15294117647058825, 0.16862745098039217, 0.17647058823529413, 0.18823529411764706, 0.1803921568627451, 0.12549019607843137, 0.24705882352941178, 0.4, 0.3568627450980392, 0.20392156862745098, 0.19607843137254902, 0.24705882352941178, 0.23529411764705882, 0.17647058823529413, 0.2235294117647059, 0.19215686274509805, 0.1450980392156863, 0.0, 0.0, 0.0, 0.0, 0.0, 0.0, 0.0, 0.0, 0.20392156862745098, 0.23137254901960785, 0.22745098039215686, 0.2235294117647059, 0.2196078431372549, 0.21176470588235294, 0.22745098039215686, 0.2235294117647059, 0.1450980392156863, 0.12549019607843137, 0.09019607843137255, 0.12156862745098039, 0.14901960784313725, 0.12941176470588237, 0.12549019607843137, 0.10980392156862745, 0.11764705882352941, 0.11764705882352941, 0.07450980392156863, 0.0784313725490196, 0.0, 0.0, 0.0, 0.0, 0.0, 0.0, 0.0, 0.0, 0.17254901960784313, 0.1803921568627451, 0.1803921568627451, 0.16862745098039217, 0.1450980392156863, 0.13333333333333333, 0.1411764705882353, 0.15294117647058825, 0.13333333333333333, 0.12156862745098039, 0.10588235294117647, 0.10588235294117647, 0.12941176470588237, 0.13725490196078433, 0.12941176470588237, 0.12549019607843137, 0.1411764705882353, 0.1450980392156863, 0.12549019607843137, 0.10196078431372549, 0.0, 0.0, 0.0, 0.0, 0.0, 0.0, 0.0, 0.0, 0.0, 0.0, 0.0, 0.0, 0.0, 0.0, 0.0, 0.0, 0.0, 0.0, 0.0, 0.0, 0.0, 0.0, 0.0, 0.0, 0.0, 0.0, 0.0, 0.0, 0.0, 0.0, 0.0, 0.0, 0.0, 0.0, 0.0, 0.0, 0.0, 0.0, 0.0, 0.0, 0.0, 0.0, 0.0, 0.0, 0.0, 0.0, 0.0, 0.0, 0.0, 0.0, 0.0, 0.0, 0.0, 0.0, 0.0, 0.0, 0.0, 0.0, 0.0, 0.0, 0.0, 0.0, 0.0, 0.0, 0.0, 0.0, 0.0, 0.0, 0.0, 0.0, 0.0, 0.0, 0.0, 0.0, 0.0, 0.0, 0.0, 0.0, 0.0, 0.0, 0.0, 0.0, 0.0, 0.0, 0.0, 0.0, 0.0, 0.0, 0.0, 0.0, 0.0, 0.0, 0.0, 0.0, 0.0, 0.0, 0.0, 0.0, 0.0, 0.0, 0.0, 0.0, 0.0, 0.0, 0.0, 0.0, 0.0, 0.0, 0.0, 0.0, 0.0, 0.0, 0.0, 0.0, 0.0, 0.0]\n",
            "<class 'list'>\n"
          ],
          "name": "stdout"
        }
      ]
    },
    {
      "cell_type": "code",
      "metadata": {
        "id": "w_lxmWbx-IZR",
        "colab_type": "code",
        "colab": {}
      },
      "source": [
        "thres_black = 0.35\n",
        "thres_white = 0.60"
      ],
      "execution_count": 0,
      "outputs": []
    },
    {
      "cell_type": "code",
      "metadata": {
        "id": "04ag900E6AlS",
        "colab_type": "code",
        "colab": {
          "base_uri": "https://localhost:8080/",
          "height": 71
        },
        "outputId": "289ec3c6-5c41-4404-da6c-c1abe6664fe8"
      },
      "source": [
        "new_image = []\n",
        "\n",
        "for pixel in image:\n",
        "    if pixel < thres_black:\n",
        "        pixel = 0\n",
        "    elif pixel >= thres_white:\n",
        "        pixel = 1\n",
        "    new_image.append(pixel)\n",
        "\n",
        "print(new_image)\n",
        "print(len(new_image))"
      ],
      "execution_count": 214,
      "outputs": [
        {
          "output_type": "stream",
          "text": [
            "[0, 0, 0, 0, 0, 0, 0, 0, 0, 0, 0, 0, 0, 0, 0, 0, 0, 0, 0, 0, 0, 0, 0, 0, 0, 0, 0, 0, 0, 0, 0, 0, 0, 0, 0, 0, 0, 0, 0, 0, 0, 0, 0, 0, 0, 0, 0, 0, 0, 0, 0, 0, 0, 0, 0, 0, 0, 0, 0, 0, 0, 0, 0, 0, 0, 0, 0, 0, 0, 0, 0, 0, 0, 0, 0, 0, 0, 0, 0, 0, 0, 0, 0, 0, 0, 0, 0, 0, 0, 0, 0, 0, 0, 0, 0, 0, 0, 0, 0, 0, 0, 0, 0, 0, 0, 0, 0, 0, 0, 0, 0, 0, 0, 0, 0, 0, 0, 0, 0, 0, 0, 0, 0, 0, 0, 0, 0, 0, 0, 0, 0, 0, 0, 0, 0, 0, 0, 0, 0, 0, 0, 0, 0, 0, 0, 0, 0, 0, 0, 0, 0, 0, 0, 0, 0, 0, 0, 0, 0, 0, 0, 0, 0, 0, 0, 0, 0, 0, 0, 0, 0, 0, 0, 0, 0, 0, 0, 0, 0, 0, 0, 0, 0, 0, 0, 0, 0, 0, 0, 0, 0, 0, 0, 0, 0, 0, 0, 0, 0, 0, 0, 0, 0, 0, 0, 0, 0.35294117647058826, 0, 0, 0, 0, 0, 0, 0, 0, 0, 0, 0, 0, 0, 0, 0, 0, 0, 0, 0, 0, 0, 0, 0, 0, 0, 0, 0, 0.3764705882352941, 1, 0, 0, 0, 0, 0, 0, 0, 0, 0, 0, 0, 0, 0, 0, 0, 0, 0, 0, 0, 0, 0, 0, 0, 0, 0, 0, 1, 1, 1, 1, 1, 1, 0.5568627450980392, 0, 0, 0, 0, 0, 0, 0, 0, 0, 0, 0, 0, 0, 0, 0, 0, 0, 0, 0, 0.4588235294117647, 0.5058823529411764, 1, 1, 1, 1, 0.4627450980392157, 0.4745098039215686, 0, 0, 0, 0, 0, 0, 0, 0, 0, 0, 0, 0, 0, 0, 0, 0, 0, 0, 0, 0, 0, 0, 0, 1, 1, 0, 0, 0, 0, 0, 0, 0, 0, 0, 0, 0, 0, 0, 0, 0, 0, 0, 0, 0, 0, 0, 0, 0, 0, 0, 0, 0.5058823529411764, 1, 0.3764705882352941, 0, 0, 0, 0, 0, 0, 0, 0, 0, 0, 0, 0, 0, 0, 0, 0, 0, 0, 0, 0, 0, 0, 0, 0, 0, 0, 1, 1, 0, 0, 0, 0, 0, 0, 0, 0, 0, 0, 0, 0, 0, 0, 0, 0, 0, 0, 0, 0, 0, 0, 0, 0, 0, 0, 1, 1, 0, 0, 0, 0, 0, 0, 0, 0, 0, 0, 0, 0, 0, 0, 0, 0, 0, 0, 0, 0, 0, 0, 0, 0, 0, 0, 1, 1, 0.49019607843137253, 0, 0, 0, 0, 0, 0, 0, 0, 0, 0, 0, 0, 0, 0, 0, 0, 0, 0, 0, 0, 0, 0, 0, 0, 0, 0.4745098039215686, 1, 1, 0, 0, 0, 0, 0, 0, 0, 0, 0, 0, 0, 0, 0, 0, 0, 0, 0, 0, 0, 0, 0, 0, 0, 0, 0, 0, 1, 1, 0, 0, 0, 0, 0, 0, 0, 0, 0, 0, 0, 0, 0, 0, 0, 0, 0, 0, 0, 0, 0, 0, 0, 0, 0, 0, 1, 1, 0, 0, 0, 0, 0, 0, 0, 0, 0, 0, 0, 0, 0, 0, 0, 0, 0, 0, 0, 0, 0, 0, 0, 0, 0, 0, 1, 1, 0.4980392156862745, 0, 0, 0, 0, 0, 0, 0, 0, 0, 0, 0, 0, 0, 0, 0, 0, 0, 0, 0, 0, 0, 0, 0, 0, 0, 0.5019607843137255, 1, 1, 0, 0, 0, 0, 0, 0, 0, 0, 0, 0, 0, 0, 0, 0, 0, 0, 0, 0, 0, 0, 0, 0, 0, 0, 0, 0, 0.4, 0.3568627450980392, 0, 0, 0, 0, 0, 0, 0, 0, 0, 0, 0, 0, 0, 0, 0, 0, 0, 0, 0, 0, 0, 0, 0, 0, 0, 0, 0, 0, 0, 0, 0, 0, 0, 0, 0, 0, 0, 0, 0, 0, 0, 0, 0, 0, 0, 0, 0, 0, 0, 0, 0, 0, 0, 0, 0, 0, 0, 0, 0, 0, 0, 0, 0, 0, 0, 0, 0, 0, 0, 0, 0, 0, 0, 0, 0, 0, 0, 0, 0, 0, 0, 0, 0, 0, 0, 0, 0, 0, 0, 0, 0, 0, 0, 0, 0, 0, 0, 0, 0, 0, 0, 0, 0, 0, 0, 0, 0, 0, 0, 0, 0, 0, 0, 0, 0, 0, 0, 0, 0, 0, 0, 0, 0, 0, 0, 0, 0, 0, 0, 0, 0, 0, 0, 0, 0, 0, 0, 0, 0, 0, 0, 0, 0, 0, 0, 0, 0, 0, 0, 0, 0, 0, 0, 0, 0, 0, 0, 0, 0, 0, 0, 0, 0, 0, 0, 0, 0, 0, 0, 0, 0, 0, 0, 0, 0, 0, 0, 0, 0, 0]\n",
            "784\n"
          ],
          "name": "stdout"
        }
      ]
    },
    {
      "cell_type": "code",
      "metadata": {
        "id": "BYWgY0__hBAn",
        "colab_type": "code",
        "colab": {
          "base_uri": "https://localhost:8080/",
          "height": 85
        },
        "outputId": "e6932a8e-0b49-4b25-bc38-5f40d98ad6e3"
      },
      "source": [
        "def reshape_ima(image):\n",
        "    image = image.reshape(28, 28)\n",
        "    return image \n",
        "\n",
        "#image = cv.imread(image, cv.IMREAD_GRAYSCALE)\n",
        "new_image = np.apply_along_axis(reshape_ima, 0, new_image)\n",
        "print(type(new_image))\n",
        "print(new_image.shape)\n",
        "print(new_image[0][0])\n",
        "print(type(new_image[0][0]))"
      ],
      "execution_count": 215,
      "outputs": [
        {
          "output_type": "stream",
          "text": [
            "<class 'numpy.ndarray'>\n",
            "(28, 28)\n",
            "0.0\n",
            "<class 'numpy.float64'>\n"
          ],
          "name": "stdout"
        }
      ]
    },
    {
      "cell_type": "code",
      "metadata": {
        "id": "bTEcA1EUiciT",
        "colab_type": "code",
        "colab": {
          "base_uri": "https://localhost:8080/",
          "height": 265
        },
        "outputId": "88cc5bb8-7b9a-4676-a380-570db3cf5178"
      },
      "source": [
        "# Plotting\n",
        "plt.imshow(new_image.reshape(28, 28), cmap='gray')\n",
        "plt.show()"
      ],
      "execution_count": 216,
      "outputs": [
        {
          "output_type": "display_data",
          "data": {
            "image/png": "[encoded data removed]",
            "text/plain": [
              "<Figure size 432x288 with 1 Axes>"
            ]
          },
          "metadata": {
            "tags": [],
            "needs_background": "light"
          }
        }
      ]
    },
    {
      "cell_type": "code",
      "metadata": {
        "id": "ydSTALqt37RS",
        "colab_type": "code",
        "colab": {
          "base_uri": "https://localhost:8080/",
          "height": 34
        },
        "outputId": "34ed21ac-ff67-4e5e-e131-717769e35268"
      },
      "source": [
        "# Reshape\n",
        "new_image = new_image.reshape(-1, 28, 28, 1)\n",
        "new_image = new_image / 255.0\n",
        "\n",
        "type(new_image[0][0][0][0])"
      ],
      "execution_count": 211,
      "outputs": [
        {
          "output_type": "execute_result",
          "data": {
            "text/plain": [
              "numpy.float64"
            ]
          },
          "metadata": {
            "tags": []
          },
          "execution_count": 211
        }
      ]
    },
    {
      "cell_type": "code",
      "metadata": {
        "id": "LAS_FK1hi4PN",
        "colab_type": "code",
        "colab": {
          "base_uri": "https://localhost:8080/",
          "height": 34
        },
        "outputId": "83a5df3a-d5a2-4153-b498-674bbc8ae189"
      },
      "source": [
        "# Predict\n",
        "pred = model.predict_classes(new_image, batch_size=1)\n",
        "\n",
        "print(pred)"
      ],
      "execution_count": 212,
      "outputs": [
        {
          "output_type": "stream",
          "text": [
            "[21]\n"
          ],
          "name": "stdout"
        }
      ]
    },
    {
      "cell_type": "code",
      "metadata": {
        "id": "0eLX79GTkqZt",
        "colab_type": "code",
        "colab": {
          "base_uri": "https://localhost:8080/",
          "height": 51
        },
        "outputId": "d072a132-980b-4d59-a2b1-fcfdf6519923"
      },
      "source": [
        "mapp['String'][pred]"
      ],
      "execution_count": 169,
      "outputs": [
        {
          "output_type": "execute_result",
          "data": {
            "text/plain": [
              "21    L\n",
              "Name: String, dtype: object"
            ]
          },
          "metadata": {
            "tags": []
          },
          "execution_count": 169
        }
      ]
    },
    {
      "cell_type": "code",
      "metadata": {
        "id": "3hhPq40s9eAB",
        "colab_type": "code",
        "colab": {}
      },
      "source": [
        ""
      ],
      "execution_count": 0,
      "outputs": []
    }
  ]
}